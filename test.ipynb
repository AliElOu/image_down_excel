{
 "cells": [
  {
   "cell_type": "code",
   "execution_count": 17,
   "metadata": {},
   "outputs": [],
   "source": [
    "import pandas as pd\n",
    "import os\n",
    "from datetime import datetime\n",
    "import time\n",
    "import os\n",
    "import requests"
   ]
  },
  {
   "cell_type": "code",
   "execution_count": 2,
   "metadata": {},
   "outputs": [],
   "source": []
  },
  {
   "cell_type": "code",
   "execution_count": 27,
   "metadata": {},
   "outputs": [],
   "source": [
    "df = pd.read_excel(\"C:\\\\Users\\\\ali_e\\\\OneDrive\\\\Bureau\\\\app\\\\Book1.xlsx\")\n",
    "\n",
    "for i, img in enumerate(df[\"Image\"]):\n",
    "    try:\n",
    "        dwd_image = download_image(img)\n",
    "        df.at[i, \"Image\"] = dwd_image\n",
    "        df.to_excel(\"C:\\\\Users\\\\ali_e\\\\OneDrive\\\\Bureau\\\\app\\\\Book1.xlsx\", index=False)\n",
    "    except Exception as e:\n",
    "        print(e)\n",
    "        continue\n"
   ]
  },
  {
   "cell_type": "code",
   "execution_count": 22,
   "metadata": {},
   "outputs": [],
   "source": [
    "def download_image(image_url):\n",
    "\n",
    "    response = requests.get(image_url, stream=True)\n",
    "    if response.status_code == 200:\n",
    "        image_name = os.path.basename(image_url.split('?')[0])  \n",
    "        full_path = os.path.join(\"C:\\\\Users\\\\ali_e\\\\OneDrive\\\\Bureau\\\\images\", image_name)\n",
    "        with open(full_path, 'wb') as f:\n",
    "            for chunk in response.iter_content(1024):\n",
    "                f.write(chunk)\n",
    "        return full_path\n",
    "    else:\n",
    "        raise Exception(f\"{date_now()} --> Impossible de télécharger l'image.\")"
   ]
  },
  {
   "cell_type": "code",
   "execution_count": 14,
   "metadata": {},
   "outputs": [],
   "source": [
    "def date_now():\n",
    "    return datetime.now().strftime(\"%d/%m/%Y|%H:%M\")"
   ]
  }
 ],
 "metadata": {
  "kernelspec": {
   "display_name": "Python 3",
   "language": "python",
   "name": "python3"
  },
  "language_info": {
   "codemirror_mode": {
    "name": "ipython",
    "version": 3
   },
   "file_extension": ".py",
   "mimetype": "text/x-python",
   "name": "python",
   "nbconvert_exporter": "python",
   "pygments_lexer": "ipython3",
   "version": "3.12.3"
  }
 },
 "nbformat": 4,
 "nbformat_minor": 2
}
